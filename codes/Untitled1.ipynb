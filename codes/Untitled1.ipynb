{
  "nbformat": 4,
  "nbformat_minor": 0,
  "metadata": {
    "colab": {
      "provenance": [],
      "authorship_tag": "ABX9TyMMOdGdXv8Og5VzcN5bgbuD",
      "include_colab_link": true
    },
    "kernelspec": {
      "name": "python3",
      "display_name": "Python 3"
    },
    "language_info": {
      "name": "python"
    }
  },
  "cells": [
    {
      "cell_type": "markdown",
      "metadata": {
        "id": "view-in-github",
        "colab_type": "text"
      },
      "source": [
        "<a href=\"https://colab.research.google.com/github/devCat404/python_projects/blob/main/Untitled1.ipynb\" target=\"_parent\"><img src=\"https://colab.research.google.com/assets/colab-badge.svg\" alt=\"Open In Colab\"/></a>"
      ]
    },
    {
      "cell_type": "code",
      "execution_count": null,
      "metadata": {
        "id": "fQIC8hhanJ-7"
      },
      "outputs": [],
      "source": [
        "import pandas as pd\n",
        "import seaborn as sns\n",
        "import matplotlib.pyplot as plt\n",
        "from sklearn.model_selection import train_test_split\n",
        "from sklearn.linear_model import LinearRegression\n",
        "from sklearn.metrics import mean_squared_error, r2_score\n",
        "import numpy as np\n",
        "\n",
        "class LinearRegressionModel:\n",
        "    def __init__(self, src, target_column, test_size=0.2, random_state=42):\n",
        "        self.src = src\n",
        "        self.target_column = target_column\n",
        "        self.test_size = test_size\n",
        "        self.random_state = random_state\n",
        "        self.model = LinearRegression()\n",
        "        self._load_and_prepare_data()\n",
        "\n",
        "    def _load_and_prepare_data(self):\n",
        "        if isinstance(self.src, str):\n",
        "            self.df = pd.read_csv(self.src)\n",
        "        elif isinstance(self.src, pd.DataFrame):\n",
        "            self.df = self.src.copy()\n",
        "        else:\n",
        "            raise ValueError(\"지원하지 않는 src 형식입니다. CSV 경로 문자열 또는 DataFrame을 사용하세요.\")\n",
        "\n",
        "        self.X = self.df.drop(columns=[self.target_column])\n",
        "        self.y = self.df[self.target_column]\n",
        "\n",
        "        self.X_train, self.X_val, self.y_train, self.y_val = train_test_split(\n",
        "            self.X, self.y, test_size=self.test_size, random_state=self.random_state\n",
        "        )\n",
        "\n",
        "    def fit(self):\n",
        "        self.model.fit(self.X_train, self.y_train)\n",
        "        print(\"모델 훈련 완료\")\n",
        "\n",
        "    def evaluate(self):\n",
        "        predictions = self.model.predict(self.X_val)\n",
        "        mse = mean_squared_error(self.y_val, predictions)\n",
        "        r2 = r2_score(self.y_val, predictions)\n",
        "        print(f\"검증 MSE: {mse:.4f}\")\n",
        "        print(f\"R² Score: {r2:.4f}\")\n",
        "        return mse, r2\n",
        "\n",
        "    def predict(self, input_data):\n",
        "        if isinstance(input_data, (list, np.ndarray)):\n",
        "            input_data = np.array(input_data).reshape(1, -1)\n",
        "        elif isinstance(input_data, pd.Series):\n",
        "            input_data = input_data.values.reshape(1, -1)\n",
        "        return self.model.predict(input_data)\n",
        "\n",
        "    def plot(self):\n",
        "        if self.X.shape[1] != 1:\n",
        "            print(\"입력 변수가 1개일 때만 시각화할 수 있습니다.\")\n",
        "            return\n",
        "        plt.scatter(self.X_val, self.y_val, color='blue', label='Answer')\n",
        "        plt.plot(self.X_val, self.model.predict(self.X_val), color='red', label='Predicted')\n",
        "        plt.xlabel(self.X.columns[0])\n",
        "        plt.ylabel(self.target_column)\n",
        "        plt.title('Validation Data vs Prediction')\n",
        "        plt.legend()\n",
        "        plt.show()\n"
      ]
    },
    {
      "cell_type": "code",
      "source": [
        "df = sns.load_dataset(\"tips\")\n",
        "df = df.select_dtypes(include=[np.number])\n",
        "model = LinearRegressionModel(df, target_column='tip')\n",
        "\n",
        "model.fit()\n",
        "model.evaluate()\n",
        "\n",
        "input_example = df.drop(columns='tip').iloc[0]\n",
        "print(\"예측값:\", model.predict(input_example))\n",
        "\n",
        "model.plot()"
      ],
      "metadata": {
        "colab": {
          "base_uri": "https://localhost:8080/"
        },
        "id": "KmNBlPK4objL",
        "outputId": "1f534380-52d9-4129-eefc-c29c1a3502cd"
      },
      "execution_count": null,
      "outputs": [
        {
          "output_type": "stream",
          "name": "stdout",
          "text": [
            "모델 훈련 완료\n",
            "검증 MSE: 0.6486\n",
            "R² Score: 0.4811\n",
            "예측값: [2.64224322]\n",
            "입력 변수가 1개일 때만 시각화할 수 있습니다.\n"
          ]
        },
        {
          "output_type": "stream",
          "name": "stderr",
          "text": [
            "/usr/local/lib/python3.11/dist-packages/sklearn/utils/validation.py:2739: UserWarning: X does not have valid feature names, but LinearRegression was fitted with feature names\n",
            "  warnings.warn(\n"
          ]
        }
      ]
    }
  ]
}